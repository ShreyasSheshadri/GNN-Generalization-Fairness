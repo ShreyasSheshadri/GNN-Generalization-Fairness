{
 "cells": [
  {
   "cell_type": "markdown",
   "id": "f9cf5a15",
   "metadata": {},
   "source": [
    "# Bounds"
   ]
  },
  {
   "cell_type": "markdown",
   "id": "ef65f9ec",
   "metadata": {},
   "source": [
    "## Input \n",
    "### A - numpy array, Adjacency Matrix\n",
    "### X - numpy array, Node Features\n",
    "### train_ids - numpy array, Train Node IDs. Make sure that Train ids range [0, V-1]\n",
    "### nrounds_smooth - No of rounds of Smoothing. Use nrounds_smooth = 0 to use only raw node features. \n",
    "### L - No. of Layers of MLP. If Linear classifier use L = 1\n",
    "### K - No of Classes. K = 2 for Binary classification\n",
    "### W - list of parameters (numpy 2D arrays). Each element of the list is parameter of a layer of MLP. These parameters needn't be ordered. Just pass each layer parameter as an element of the list"
   ]
  },
  {
   "cell_type": "code",
   "execution_count": 1,
   "id": "5ae7af1f",
   "metadata": {},
   "outputs": [],
   "source": [
    "import numpy as np"
   ]
  },
  {
   "cell_type": "code",
   "execution_count": 2,
   "id": "30d0c36e",
   "metadata": {},
   "outputs": [],
   "source": [
    "def compute_bounds(A, X, train_ids, nrounds_smooth, L, K, W):\n",
    "    \n",
    "    # Apply Feature Smoothing\n",
    "    D = np.diag(np.sum(A, axis=1))\n",
    "    D_1 = np.linalg.inv(D)\n",
    "    Lp = np.matmul(D_1, (A + np.eye(A.shape[0])))\n",
    "    for i in range(nrounds_smooth):\n",
    "        X = np.matmul(Lp, X)\n",
    "    \n",
    "    # Compute distance to the Train nodes\n",
    "    def get_agg_distance(Y):\n",
    "        agg_distance = {}\n",
    "        for i in range(A.shape[0]):\n",
    "            agg_distance[i] = float('inf')\n",
    "            for j in train_ids:\n",
    "                agg_distance[i] = min(agg_distance[i],\n",
    "                                      np.linalg.norm(Y[i] - Y[j]))\n",
    "        return agg_distance\n",
    "    \n",
    "    distX = get_agg_distance(X)\n",
    "    \n",
    "    # Define constants in bounds\n",
    "    ## Lipchitz parameter c - Not sure how to measure. Setting it to 1/max(em). Look at eq following eq.14 in the paper\n",
    "    c = 1/max(distX.keys())\n",
    "    ## N_o = No of Train nodes \n",
    "    N0 = train_ids.shape[0]\n",
    "    ## alpha - There exists such a value! See Assumption 3 and discussion after Equation 15, \n",
    "    ## it governs probability of undesirable event. So should be set to high value i.e., 1/4\n",
    "    alpha = 0.25 - 1e-6\n",
    "    ## delta - Confidence, setting it 0.9\n",
    "    delta = 0.9\n",
    "    ## gamma - Margin setting it low value 1e-4\n",
    "    gamma = 1e-4\n",
    "    ## b - Apparently from a spectral norm inequality. I couldn't locate it in the reference. \n",
    "    ## They didn't even point the equation out!!\n",
    "    b = 1\n",
    "    ## C - Upper bound on Frenobius Norm of Wieghts \"W_Fn\". Setting it to ceil() of the max Frenobius norm, W_Fn\n",
    "    W_Fn = np.sum([np.sum(np.square(w)) for w in W])**0.5\n",
    "    C = np.ceil(W_Fn)\n",
    "    ## Norm of the Smoothed Features\n",
    "    B = np.linalg.norm(X, axis=1)\n",
    "    B0 = np.max(B[train_ids])\n",
    "    \n",
    "    def compute_upper_bound(vi, dxi):\n",
    "        ub = c * K * dxi\n",
    "        ub += ((W_Fn*b) * (dxi**2) /(N0**alpha*(gamma/8)**2))\n",
    "        ub += N0**(2*alpha-1)\n",
    "        xb = (L*C*2*B[vi])/(delta*gamma)\n",
    "        ub += N0**(-2*alpha) * np.log(xb)\n",
    "        return ub\n",
    "    \n",
    "    gen_bounds = {}\n",
    "    test_ids = np.setdiff1d(np.arange(A.shape[0]), train_ids)\n",
    "    for vi in test_ids:\n",
    "        gen_bounds[vi] = compute_upper_bound(vi, distX[vi])\n",
    "    maxCS = max([gen_bounds[x] for x in gen_bounds])\n",
    "    gen_bounds = {x: gen_bounds[x]/maxCS for x in gen_bounds}\n",
    "    return gen_bounds\n",
    "    "
   ]
  },
  {
   "cell_type": "code",
   "execution_count": 3,
   "id": "50b7b44a",
   "metadata": {},
   "outputs": [
    {
     "name": "stderr",
     "output_type": "stream",
     "text": [
      "[16:44:25] Using backend: pytorch\n",
      "/opt/dgl/src/runtime/tensordispatch.cc:43: TensorDispatcher: dlopen failed: /home/shreyshs/anaconda3/lib/python3.9/site-packages/dgl/tensoradapter/pytorch/libtensoradapter_pytorch_1.10.2.so: cannot open shared object file: No such file or directory\n"
     ]
    }
   ],
   "source": [
    "import torch as th\n",
    "import networkx as nx\n",
    "import torch.nn as nn\n",
    "import torch.nn.functional as F\n",
    "from dgl.nn.pytorch import SGConv"
   ]
  },
  {
   "cell_type": "markdown",
   "id": "f7ee27bf",
   "metadata": {},
   "source": [
    "# Example code"
   ]
  },
  {
   "cell_type": "markdown",
   "id": "9335fa5e",
   "metadata": {},
   "source": [
    "## Read the SGC model"
   ]
  },
  {
   "cell_type": "code",
   "execution_count": 4,
   "id": "14a6c4f4",
   "metadata": {},
   "outputs": [],
   "source": [
    "import pandas as pd"
   ]
  },
  {
   "cell_type": "code",
   "execution_count": 5,
   "id": "99fe04df",
   "metadata": {},
   "outputs": [],
   "source": [
    "import pickle"
   ]
  },
  {
   "cell_type": "code",
   "execution_count": 6,
   "id": "60be17fa",
   "metadata": {},
   "outputs": [],
   "source": [
    "model = pd.read_pickle('CS-core-res/model.pkl')"
   ]
  },
  {
   "cell_type": "code",
   "execution_count": 7,
   "id": "e817f519",
   "metadata": {},
   "outputs": [],
   "source": [
    "W = [cp.detach().numpy() for cp in model.parameters()]\n",
    "W = [np.column_stack(W)]"
   ]
  },
  {
   "cell_type": "code",
   "execution_count": 8,
   "id": "65ddff71",
   "metadata": {},
   "outputs": [],
   "source": [
    "node_features = pickle.load(open('CS-core-res/node_features.pkl', 'rb'))"
   ]
  },
  {
   "cell_type": "code",
   "execution_count": 9,
   "id": "b787424c",
   "metadata": {},
   "outputs": [
    {
     "data": {
      "text/plain": [
       "(2708, 1433)"
      ]
     },
     "execution_count": 9,
     "metadata": {},
     "output_type": "execute_result"
    }
   ],
   "source": [
    "node_features.shape"
   ]
  },
  {
   "cell_type": "code",
   "execution_count": 10,
   "id": "3ee61a24",
   "metadata": {},
   "outputs": [],
   "source": [
    "A = pickle.load(open('CS-core-res/adjacency_mat.pkl', 'rb'))"
   ]
  },
  {
   "cell_type": "code",
   "execution_count": 11,
   "id": "bbd67536",
   "metadata": {},
   "outputs": [],
   "source": [
    "train_ids = pickle.load(open('CS-core-res/train_ids.pkl', 'rb'))"
   ]
  },
  {
   "cell_type": "code",
   "execution_count": 12,
   "id": "5d872425",
   "metadata": {},
   "outputs": [],
   "source": [
    "n_rounds_smooth = 2\n",
    "n_layers = 1\n",
    "n_labels = 7"
   ]
  },
  {
   "cell_type": "code",
   "execution_count": 13,
   "id": "2c025f5b",
   "metadata": {},
   "outputs": [],
   "source": [
    "gen_bounds = compute_bounds(A, node_features, train_ids, n_rounds_smooth, n_layers, n_labels, W)"
   ]
  },
  {
   "cell_type": "code",
   "execution_count": 14,
   "id": "1ebf2721",
   "metadata": {},
   "outputs": [
    {
     "data": {
      "text/plain": [
       "2568"
      ]
     },
     "execution_count": 14,
     "metadata": {},
     "output_type": "execute_result"
    }
   ],
   "source": [
    "len(gen_bounds)"
   ]
  },
  {
   "cell_type": "code",
   "execution_count": 15,
   "id": "80d1f83a",
   "metadata": {},
   "outputs": [
    {
     "data": {
      "text/plain": [
       "2708"
      ]
     },
     "execution_count": 15,
     "metadata": {},
     "output_type": "execute_result"
    }
   ],
   "source": [
    "A.shape[0]"
   ]
  },
  {
   "cell_type": "code",
   "execution_count": 16,
   "id": "6a79568b",
   "metadata": {},
   "outputs": [
    {
     "data": {
      "text/plain": [
       "140"
      ]
     },
     "execution_count": 16,
     "metadata": {},
     "output_type": "execute_result"
    }
   ],
   "source": [
    "len(train_ids)"
   ]
  },
  {
   "cell_type": "code",
   "execution_count": null,
   "id": "203cdfe8",
   "metadata": {},
   "outputs": [],
   "source": []
  }
 ],
 "metadata": {
  "kernelspec": {
   "display_name": "Python 3 (ipykernel)",
   "language": "python",
   "name": "python3"
  },
  "language_info": {
   "codemirror_mode": {
    "name": "ipython",
    "version": 3
   },
   "file_extension": ".py",
   "mimetype": "text/x-python",
   "name": "python",
   "nbconvert_exporter": "python",
   "pygments_lexer": "ipython3",
   "version": "3.9.7"
  }
 },
 "nbformat": 4,
 "nbformat_minor": 5
}
