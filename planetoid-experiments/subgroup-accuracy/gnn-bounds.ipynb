{
 "cells": [
  {
   "cell_type": "code",
   "execution_count": 1,
   "id": "9a781f04",
   "metadata": {},
   "outputs": [],
   "source": [
    "import json"
   ]
  },
  {
   "cell_type": "code",
   "execution_count": 2,
   "id": "bfbd1a92",
   "metadata": {},
   "outputs": [],
   "source": [
    "import matplotlib.dates as mdates\n",
    "import matplotlib.ticker as ticker\n",
    "import matplotlib.pyplot as plt"
   ]
  },
  {
   "cell_type": "markdown",
   "id": "f9cf5a15",
   "metadata": {},
   "source": [
    "# Bounds"
   ]
  },
  {
   "cell_type": "code",
   "execution_count": 4,
   "id": "689d7e40",
   "metadata": {},
   "outputs": [],
   "source": [
    "import pandas as pd"
   ]
  },
  {
   "cell_type": "code",
   "execution_count": 5,
   "id": "c0b7404d",
   "metadata": {},
   "outputs": [
    {
     "name": "stderr",
     "output_type": "stream",
     "text": [
      "[12:25:29Using backend: pytorch\n",
      "] /opt/dgl/src/runtime/tensordispatch.cc:43: TensorDispatcher: dlopen failed: /home/shreyshs/anaconda3/lib/python3.9/site-packages/dgl/tensoradapter/pytorch/libtensoradapter_pytorch_1.10.2.so: cannot open shared object file: No such file or directory\n"
     ]
    }
   ],
   "source": [
    "import numpy as np\n",
    "import torch as th\n",
    "import networkx as nx\n",
    "import torch.nn as nn\n",
    "import torch.nn.functional as F\n",
    "from dgl.nn.pytorch import SGConv"
   ]
  },
  {
   "cell_type": "code",
   "execution_count": 6,
   "id": "f3265f04",
   "metadata": {},
   "outputs": [],
   "source": [
    "agg_mat = pd.read_pickle('agg.pkl')"
   ]
  },
  {
   "cell_type": "code",
   "execution_count": 28,
   "id": "1e21ea3d",
   "metadata": {},
   "outputs": [],
   "source": [
    "agg_dist = pd.read_pickle('agg_distance.pkl')"
   ]
  },
  {
   "cell_type": "code",
   "execution_count": 33,
   "id": "9e494afc",
   "metadata": {},
   "outputs": [],
   "source": [
    "model = pd.read_pickle('model.pkl')"
   ]
  },
  {
   "cell_type": "code",
   "execution_count": 7,
   "id": "06a2e927",
   "metadata": {},
   "outputs": [],
   "source": [
    "train_mask, valid_mask, test_mask, graph, node_features, node_labels, n_features, n_labels, check_list = pd.read_pickle('data/sortby_random__divideby_label__seed_19__domainidx_2__checkmethod_agg__nodenumeach_20__dataset_cora__noise_on_feature_no__validnum_500__testnum_1000.pkl')\n"
   ]
  },
  {
   "cell_type": "code",
   "execution_count": 9,
   "id": "e42f5534",
   "metadata": {},
   "outputs": [],
   "source": [
    "import pickle"
   ]
  },
  {
   "cell_type": "code",
   "execution_count": 14,
   "id": "3078028a",
   "metadata": {},
   "outputs": [
    {
     "data": {
      "text/plain": [
       "'4.0'"
      ]
     },
     "execution_count": 14,
     "metadata": {},
     "output_type": "execute_result"
    }
   ],
   "source": [
    "pickle.format_version"
   ]
  },
  {
   "cell_type": "code",
   "execution_count": 10,
   "id": "fcb036ea",
   "metadata": {},
   "outputs": [],
   "source": [
    "pickle.dump(graph, open('cora-dataset/graph.pkl', 'wb'))"
   ]
  },
  {
   "cell_type": "code",
   "execution_count": 11,
   "id": "48ecf2df",
   "metadata": {},
   "outputs": [],
   "source": [
    "pickle.dump(node_features, open('cora-dataset/node_features.pkl', 'wb'))"
   ]
  },
  {
   "cell_type": "code",
   "execution_count": 18,
   "id": "504d990b",
   "metadata": {},
   "outputs": [
    {
     "data": {
      "text/plain": [
       "tensor([[0.0000, 0.0000, 0.0000,  ..., 0.0000, 0.0029, 0.0000],\n",
       "        [0.0000, 0.0000, 0.0000,  ..., 0.0000, 0.0034, 0.0000],\n",
       "        [0.0000, 0.0000, 0.0000,  ..., 0.0000, 0.0034, 0.0000],\n",
       "        ...,\n",
       "        [0.0000, 0.0000, 0.0000,  ..., 0.0000, 0.0000, 0.0000],\n",
       "        [0.0000, 0.0000, 0.0000,  ..., 0.0000, 0.0263, 0.0000],\n",
       "        [0.0000, 0.0000, 0.0000,  ..., 0.0000, 0.0263, 0.0000]],\n",
       "       dtype=torch.float64)"
      ]
     },
     "execution_count": 18,
     "metadata": {},
     "output_type": "execute_result"
    }
   ],
   "source": [
    "agg_mat"
   ]
  },
  {
   "cell_type": "code",
   "execution_count": 12,
   "id": "870fdd61",
   "metadata": {},
   "outputs": [],
   "source": [
    "pickle.dump(node_labels, open('cora-dataset/node_labels.pkl', 'wb'))"
   ]
  },
  {
   "cell_type": "code",
   "execution_count": 15,
   "id": "54165385",
   "metadata": {},
   "outputs": [],
   "source": [
    "pickle.dump(agg_mat, open('cora-dataset/agg_node_features.pkl', 'wb'))"
   ]
  },
  {
   "cell_type": "markdown",
   "id": "66fb283a",
   "metadata": {},
   "source": [
    "## Lipchitz parameter c - Not sure how to measure. Setting it to 1/max(em). Look at eq following eq.14 in the paper"
   ]
  },
  {
   "cell_type": "code",
   "execution_count": 89,
   "id": "5be27479",
   "metadata": {},
   "outputs": [],
   "source": [
    "c = 1/max(agg_dist.keys())"
   ]
  },
  {
   "cell_type": "code",
   "execution_count": 90,
   "id": "b8f281f4",
   "metadata": {},
   "outputs": [
    {
     "data": {
      "text/plain": [
       "0.0003694126339120798"
      ]
     },
     "execution_count": 90,
     "metadata": {},
     "output_type": "execute_result"
    }
   ],
   "source": [
    "c"
   ]
  },
  {
   "cell_type": "code",
   "execution_count": 160,
   "id": "32e0df0d",
   "metadata": {},
   "outputs": [
    {
     "data": {
      "text/plain": [
       "2707.0"
      ]
     },
     "execution_count": 160,
     "metadata": {},
     "output_type": "execute_result"
    }
   ],
   "source": [
    "1/c"
   ]
  },
  {
   "cell_type": "markdown",
   "id": "1fb6bced",
   "metadata": {},
   "source": [
    "## N_o = No of Train nodes "
   ]
  },
  {
   "cell_type": "code",
   "execution_count": 38,
   "id": "eb7b23f1",
   "metadata": {},
   "outputs": [
    {
     "data": {
      "text/plain": [
       "tensor(140)"
      ]
     },
     "execution_count": 38,
     "metadata": {},
     "output_type": "execute_result"
    }
   ],
   "source": [
    "train_mask.sum()"
   ]
  },
  {
   "cell_type": "code",
   "execution_count": 39,
   "id": "d74b167e",
   "metadata": {},
   "outputs": [],
   "source": [
    "N0 = 140"
   ]
  },
  {
   "cell_type": "markdown",
   "id": "02437430",
   "metadata": {},
   "source": [
    "## L - No of Layers"
   ]
  },
  {
   "cell_type": "code",
   "execution_count": 23,
   "id": "c618fc23",
   "metadata": {},
   "outputs": [],
   "source": [
    "L = 1"
   ]
  },
  {
   "cell_type": "markdown",
   "id": "f7cc8673",
   "metadata": {},
   "source": [
    "## alpha - There exists such a value! See Assumption 3 and discussion after Equation 15, it governs probability of undesirable event. So should be set to high value i.e., 1/4"
   ]
  },
  {
   "cell_type": "code",
   "execution_count": 40,
   "id": "d553c926",
   "metadata": {},
   "outputs": [],
   "source": [
    "alpha = 0.25 - 1e-6"
   ]
  },
  {
   "cell_type": "markdown",
   "id": "99d42236",
   "metadata": {},
   "source": [
    "## delta - Confidence, setting it 0.9"
   ]
  },
  {
   "cell_type": "code",
   "execution_count": 41,
   "id": "353a1e4c",
   "metadata": {},
   "outputs": [],
   "source": [
    "delta = 0.9"
   ]
  },
  {
   "cell_type": "markdown",
   "id": "ec8ef502",
   "metadata": {},
   "source": [
    "## gamma - Margin setting it low value 1e-4"
   ]
  },
  {
   "cell_type": "code",
   "execution_count": 159,
   "id": "ef2dc201",
   "metadata": {},
   "outputs": [],
   "source": [
    "gamma = 1e-4"
   ]
  },
  {
   "cell_type": "markdown",
   "id": "0b08ec3d",
   "metadata": {},
   "source": [
    "## K - No of Classes"
   ]
  },
  {
   "cell_type": "code",
   "execution_count": 43,
   "id": "83d41830",
   "metadata": {},
   "outputs": [
    {
     "data": {
      "text/plain": [
       "7"
      ]
     },
     "execution_count": 43,
     "metadata": {},
     "output_type": "execute_result"
    }
   ],
   "source": [
    "n_labels"
   ]
  },
  {
   "cell_type": "code",
   "execution_count": 44,
   "id": "970aef2a",
   "metadata": {},
   "outputs": [],
   "source": [
    "K = n_labels"
   ]
  },
  {
   "cell_type": "markdown",
   "id": "8e152e70",
   "metadata": {},
   "source": [
    "## b - Apparently from a spectral norm inequality. I couldn't locate it in the reference. \n",
    "## They didn't even point the equation out!!"
   ]
  },
  {
   "cell_type": "code",
   "execution_count": 45,
   "id": "33fb17c5",
   "metadata": {},
   "outputs": [],
   "source": [
    "b = 1"
   ]
  },
  {
   "cell_type": "markdown",
   "id": "1d5a6506",
   "metadata": {},
   "source": [
    "## C - Upper bound on Frenobius Norm of Wieghts. Setting it to ceil() of the max Frenobius norm"
   ]
  },
  {
   "cell_type": "code",
   "execution_count": 52,
   "id": "516e299b",
   "metadata": {},
   "outputs": [
    {
     "name": "stdout",
     "output_type": "stream",
     "text": [
      "torch.Size([7, 1433])\n",
      "torch.Size([7])\n"
     ]
    }
   ],
   "source": [
    "for cp in model.parameters():\n",
    "    print(cp.shape)"
   ]
  },
  {
   "cell_type": "code",
   "execution_count": 55,
   "id": "f22a3fe6",
   "metadata": {},
   "outputs": [
    {
     "data": {
      "text/plain": [
       "Graph(num_nodes=2708, num_edges=13264,\n",
       "      ndata_schemes={'feat': Scheme(shape=(1433,), dtype=torch.float32), 'label': Scheme(shape=(), dtype=torch.int64), 'test_mask': Scheme(shape=(), dtype=torch.bool), 'train_mask': Scheme(shape=(), dtype=torch.bool), 'val_mask': Scheme(shape=(), dtype=torch.bool)}\n",
       "      edata_schemes={})"
      ]
     },
     "execution_count": 55,
     "metadata": {},
     "output_type": "execute_result"
    }
   ],
   "source": [
    "graph"
   ]
  },
  {
   "cell_type": "code",
   "execution_count": 56,
   "id": "b36b2b89",
   "metadata": {},
   "outputs": [
    {
     "data": {
      "text/plain": [
       "torch.Size([2708, 1433])"
      ]
     },
     "execution_count": 56,
     "metadata": {},
     "output_type": "execute_result"
    }
   ],
   "source": [
    "node_features.shape"
   ]
  },
  {
   "cell_type": "code",
   "execution_count": 60,
   "id": "c2de9536",
   "metadata": {},
   "outputs": [],
   "source": [
    "P = []\n",
    "for cp in model.parameters():\n",
    "    P.append(cp.detach().numpy())"
   ]
  },
  {
   "cell_type": "code",
   "execution_count": 62,
   "id": "a63e5eda",
   "metadata": {},
   "outputs": [],
   "source": [
    "W_Fn = (np.sum(np.square(P[0])) + np.sum(np.square(P[1])))**0.5"
   ]
  },
  {
   "cell_type": "code",
   "execution_count": 63,
   "id": "db4ba05d",
   "metadata": {},
   "outputs": [
    {
     "data": {
      "text/plain": [
       "22.13174732148262"
      ]
     },
     "execution_count": 63,
     "metadata": {},
     "output_type": "execute_result"
    }
   ],
   "source": [
    "W_Fn"
   ]
  },
  {
   "cell_type": "code",
   "execution_count": 65,
   "id": "fec9e8f7",
   "metadata": {},
   "outputs": [],
   "source": [
    "C = 23"
   ]
  },
  {
   "cell_type": "code",
   "execution_count": 67,
   "id": "f67f4a2f",
   "metadata": {},
   "outputs": [
    {
     "data": {
      "text/plain": [
       "torch.Size([2708, 1433])"
      ]
     },
     "execution_count": 67,
     "metadata": {},
     "output_type": "execute_result"
    }
   ],
   "source": [
    "agg_mat.shape"
   ]
  },
  {
   "cell_type": "code",
   "execution_count": 68,
   "id": "bec31c47",
   "metadata": {},
   "outputs": [],
   "source": [
    "agg_mat = agg_mat.detach().numpy()"
   ]
  },
  {
   "cell_type": "code",
   "execution_count": 70,
   "id": "2fa3147c",
   "metadata": {},
   "outputs": [],
   "source": [
    "B = np.linalg.norm(agg_mat, axis=1)"
   ]
  },
  {
   "cell_type": "code",
   "execution_count": 72,
   "id": "36e7341c",
   "metadata": {},
   "outputs": [
    {
     "data": {
      "text/plain": [
       "(2708,)"
      ]
     },
     "execution_count": 72,
     "metadata": {},
     "output_type": "execute_result"
    }
   ],
   "source": [
    "B.shape"
   ]
  },
  {
   "cell_type": "code",
   "execution_count": 75,
   "id": "219ae1be",
   "metadata": {},
   "outputs": [],
   "source": [
    "B0 = np.max(B[train_mask])"
   ]
  },
  {
   "cell_type": "code",
   "execution_count": 76,
   "id": "52676e03",
   "metadata": {},
   "outputs": [
    {
     "data": {
      "text/plain": [
       "0.29193710580065185"
      ]
     },
     "execution_count": 76,
     "metadata": {},
     "output_type": "execute_result"
    }
   ],
   "source": [
    "B0"
   ]
  },
  {
   "cell_type": "code",
   "execution_count": 78,
   "id": "7fa3a4f5",
   "metadata": {},
   "outputs": [
    {
     "data": {
      "text/plain": [
       "torch.Size([2708])"
      ]
     },
     "execution_count": 78,
     "metadata": {},
     "output_type": "execute_result"
    }
   ],
   "source": [
    "node_labels.shape"
   ]
  },
  {
   "cell_type": "code",
   "execution_count": 79,
   "id": "2a4395e5",
   "metadata": {},
   "outputs": [
    {
     "data": {
      "text/plain": [
       "tensor(6)"
      ]
     },
     "execution_count": 79,
     "metadata": {},
     "output_type": "execute_result"
    }
   ],
   "source": [
    "max(node_labels)"
   ]
  },
  {
   "cell_type": "code",
   "execution_count": 80,
   "id": "b229a46e",
   "metadata": {},
   "outputs": [
    {
     "data": {
      "text/plain": [
       "7"
      ]
     },
     "execution_count": 80,
     "metadata": {},
     "output_type": "execute_result"
    }
   ],
   "source": [
    "K"
   ]
  },
  {
   "cell_type": "code",
   "execution_count": 122,
   "id": "bf0eb21a",
   "metadata": {},
   "outputs": [],
   "source": [
    "def compute_upper_bound(vi):\n",
    "    ub = c * K * agg_dist[vi]\n",
    "    print(ub)\n",
    "    ub += ((W_Fn*b)/(N0**alpha*(gamma/8)**2)) * (agg_dist[vi]**2)\n",
    "    print(ub)\n",
    "    ub += N0**(2*alpha-1)\n",
    "    print(ub)\n",
    "    ub += N0**(-2*alpha) * np.log((L*C*2*B[vi])/(delta*gamma))\n",
    "    print(ub)\n",
    "    return ub"
   ]
  },
  {
   "cell_type": "code",
   "execution_count": 126,
   "id": "8349d59b",
   "metadata": {},
   "outputs": [
    {
     "data": {
      "text/plain": [
       "18605875526339.656"
      ]
     },
     "execution_count": 126,
     "metadata": {},
     "output_type": "execute_result"
    }
   ],
   "source": [
    "1/(N0**alpha*(gamma/8)**2)"
   ]
  },
  {
   "cell_type": "code",
   "execution_count": 123,
   "id": "2678c99a",
   "metadata": {},
   "outputs": [
    {
     "name": "stdout",
     "output_type": "stream",
     "text": [
      "0.0002936810832501355\n",
      "5311267716334.522\n",
      "5311267716334.607\n",
      "5311267716335.918\n"
     ]
    },
    {
     "data": {
      "text/plain": [
       "5311267716335.918"
      ]
     },
     "execution_count": 123,
     "metadata": {},
     "output_type": "execute_result"
    }
   ],
   "source": [
    "compute_upper_bound(0)"
   ]
  },
  {
   "cell_type": "code",
   "execution_count": 94,
   "id": "ede28cef",
   "metadata": {},
   "outputs": [],
   "source": [
    "gen_bounds = {}\n",
    "for vi in agg_dist:\n",
    "    gen_bounds[vi] = compute_upper_bound(vi)"
   ]
  },
  {
   "cell_type": "code",
   "execution_count": 98,
   "id": "b5e7fcf2",
   "metadata": {},
   "outputs": [
    {
     "data": {
      "text/plain": [
       "array([   0,    1,    2, ..., 2705, 2706, 2707])"
      ]
     },
     "execution_count": 98,
     "metadata": {},
     "output_type": "execute_result"
    }
   ],
   "source": [
    "graph.nodes().numpy()"
   ]
  },
  {
   "cell_type": "code",
   "execution_count": 100,
   "id": "b7ffc74a",
   "metadata": {},
   "outputs": [],
   "source": [
    "computes_df = pd.DataFrame(graph.nodes().numpy(), columns=['vertices'])"
   ]
  },
  {
   "cell_type": "code",
   "execution_count": 102,
   "id": "9c543493",
   "metadata": {},
   "outputs": [],
   "source": [
    "computes_df['gen_bound'] = computes_df['vertices'].apply(lambda x: gen_bounds[x])"
   ]
  },
  {
   "cell_type": "code",
   "execution_count": 103,
   "id": "00a57dc5",
   "metadata": {},
   "outputs": [],
   "source": [
    "computes_df['epsilon_m'] = computes_df['vertices'].apply(lambda x: agg_dist[x])"
   ]
  },
  {
   "cell_type": "code",
   "execution_count": 105,
   "id": "e04d3331",
   "metadata": {},
   "outputs": [],
   "source": [
    "maxG = computes_df['gen_bound'].max()\n",
    "minG = computes_df['gen_bound'].min()"
   ]
  },
  {
   "cell_type": "code",
   "execution_count": 108,
   "id": "5a595cc3",
   "metadata": {},
   "outputs": [],
   "source": [
    "predictions = pd.read_pickle('indices.pkl')"
   ]
  },
  {
   "cell_type": "code",
   "execution_count": 110,
   "id": "4a8dec41",
   "metadata": {},
   "outputs": [
    {
     "data": {
      "text/plain": [
       "torch.Size([2708])"
      ]
     },
     "execution_count": 110,
     "metadata": {},
     "output_type": "execute_result"
    }
   ],
   "source": [
    "predictions.shape"
   ]
  },
  {
   "cell_type": "code",
   "execution_count": 106,
   "id": "8520869e",
   "metadata": {},
   "outputs": [],
   "source": [
    "computes_df['normalized_gen_bounds'] = computes_df['gen_bound'].apply(lambda x: (x - minG)/(maxG - minG))"
   ]
  },
  {
   "cell_type": "code",
   "execution_count": 111,
   "id": "5bcdda1c",
   "metadata": {},
   "outputs": [],
   "source": [
    "computes_df['predictions'] = predictions"
   ]
  },
  {
   "cell_type": "code",
   "execution_count": 112,
   "id": "f0d46349",
   "metadata": {},
   "outputs": [],
   "source": [
    "computes_df['true_labels'] = node_labels"
   ]
  },
  {
   "cell_type": "code",
   "execution_count": 113,
   "id": "85b4da46",
   "metadata": {},
   "outputs": [],
   "source": [
    "computes_df['mismatch'] = 1.0 * (computes_df['predictions'] == computes_df['true_labels'])"
   ]
  },
  {
   "cell_type": "code",
   "execution_count": 114,
   "id": "07d25fb0",
   "metadata": {},
   "outputs": [
    {
     "data": {
      "text/plain": [
       "tensor([ True, False, False,  ..., False, False,  True])"
      ]
     },
     "execution_count": 114,
     "metadata": {},
     "output_type": "execute_result"
    }
   ],
   "source": [
    "test_mask"
   ]
  },
  {
   "cell_type": "code",
   "execution_count": 115,
   "id": "121d880f",
   "metadata": {},
   "outputs": [],
   "source": [
    "computes_df['is_test'] = 1.0 * (test_mask.numpy())"
   ]
  },
  {
   "cell_type": "code",
   "execution_count": 117,
   "id": "a0668c2b",
   "metadata": {},
   "outputs": [
    {
     "data": {
      "text/plain": [
       "0.0    1708\n",
       "1.0    1000\n",
       "Name: is_test, dtype: int64"
      ]
     },
     "execution_count": 117,
     "metadata": {},
     "output_type": "execute_result"
    }
   ],
   "source": [
    "computes_df['is_test'].value_counts()"
   ]
  },
  {
   "cell_type": "code",
   "execution_count": 119,
   "id": "b0c0c528",
   "metadata": {},
   "outputs": [
    {
     "data": {
      "text/plain": [
       "<AxesSubplot:title={'center':'normalized_gen_bounds'}, xlabel='[mismatch]'>"
      ]
     },
     "execution_count": 119,
     "metadata": {},
     "output_type": "execute_result"
    },
    {
     "data": {
      "image/png": "[encoded data removed]",
      "text/plain": [
       "<Figure size 432x288 with 1 Axes>"
      ]
     },
     "metadata": {
      "needs_background": "light"
     },
     "output_type": "display_data"
    }
   ],
   "source": [
    "computes_df[computes_df.is_test == 1.0][['normalized_gen_bounds', 'mismatch']].boxplot(by='mismatch')"
   ]
  },
  {
   "cell_type": "code",
   "execution_count": 120,
   "id": "5f9a0e03",
   "metadata": {},
   "outputs": [
    {
     "data": {
      "text/plain": [
       "<AxesSubplot:title={'center':'normalized_gen_bounds'}, xlabel='[mismatch]'>"
      ]
     },
     "execution_count": 120,
     "metadata": {},
     "output_type": "execute_result"
    },
    {
     "data": {
      "image/png": "[encoded data removed]",
      "text/plain": [
       "<Figure size 432x288 with 1 Axes>"
      ]
     },
     "metadata": {
      "needs_background": "light"
     },
     "output_type": "display_data"
    }
   ],
   "source": [
    "computes_df[computes_df.is_test == 1.0][['normalized_gen_bounds', 'mismatch']].boxplot(by='mismatch', showfliers=False)"
   ]
  },
  {
   "cell_type": "code",
   "execution_count": 128,
   "id": "a8406b69",
   "metadata": {},
   "outputs": [
    {
     "data": {
      "text/plain": [
       "5"
      ]
     },
     "execution_count": 128,
     "metadata": {},
     "output_type": "execute_result"
    }
   ],
   "source": [
    "len(check_list)"
   ]
  },
  {
   "cell_type": "code",
   "execution_count": 129,
   "id": "9e1c1532",
   "metadata": {},
   "outputs": [],
   "source": [
    "test_check_list = {}\n",
    "for i in range(5):\n",
    "    gn = len(check_list[i])\n",
    "    tlist = []\n",
    "    for j in range(gn):\n",
    "        if test_mask[check_list[i][j]]:\n",
    "            tlist.append(check_list[i][j])\n",
    "    test_check_list[i] = tlist"
   ]
  },
  {
   "cell_type": "code",
   "execution_count": 131,
   "id": "f47d8065",
   "metadata": {},
   "outputs": [],
   "source": [
    "test_group_df_list = []\n",
    "for i in range(5):\n",
    "    for j in test_check_list[i]:\n",
    "        for k in test_check_list[i]:\n",
    "            if j != k:\n",
    "                test_group_df_list.append((i, j, k))"
   ]
  },
  {
   "cell_type": "code",
   "execution_count": 135,
   "id": "4f1701b9",
   "metadata": {},
   "outputs": [],
   "source": [
    "test_group_df = pd.DataFrame(test_group_df_list, columns=['group', 'vi', 'vj'])"
   ]
  },
  {
   "cell_type": "code",
   "execution_count": 140,
   "id": "7f1e71b1",
   "metadata": {},
   "outputs": [],
   "source": [
    "test_group_df['has_edge'] = test_group_df.apply(lambda x: graph.has_edge_between(x['vi'], x['vj']) * 1.0, axis=1)"
   ]
  },
  {
   "cell_type": "code",
   "execution_count": 145,
   "id": "f3923aa0",
   "metadata": {},
   "outputs": [],
   "source": [
    "predictions = predictions.numpy()"
   ]
  },
  {
   "cell_type": "code",
   "execution_count": 147,
   "id": "ab763fe4",
   "metadata": {},
   "outputs": [],
   "source": [
    "node_labels = node_labels.numpy()"
   ]
  },
  {
   "cell_type": "code",
   "execution_count": 156,
   "id": "f785510f",
   "metadata": {},
   "outputs": [],
   "source": [
    "def is_correlated(x):\n",
    "    vi = int(x['vi'])\n",
    "    vj = int(x['vj'])\n",
    "    if predictions[vi] == node_labels[vi] and predictions[vj] == node_labels[vj]:\n",
    "        return 1.0\n",
    "    elif predictions[vi] != node_labels[vi] and predictions[vj] != node_labels[vj]:\n",
    "        return 1.0\n",
    "    else:\n",
    "        return 0.0"
   ]
  },
  {
   "cell_type": "code",
   "execution_count": 157,
   "id": "c4061b3e",
   "metadata": {},
   "outputs": [],
   "source": [
    "test_group_df['has_common'] = test_group_df.apply(is_correlated, axis=1)"
   ]
  },
  {
   "cell_type": "code",
   "execution_count": 158,
   "id": "3cbdde35",
   "metadata": {},
   "outputs": [
    {
     "data": {
      "text/plain": [
       "group  has_edge\n",
       "0      0.0         0.807899\n",
       "       1.0         0.941176\n",
       "1      0.0         0.693025\n",
       "       1.0         0.820000\n",
       "2      0.0         0.690121\n",
       "       1.0         0.808511\n",
       "3      0.0         0.668637\n",
       "       1.0         0.901961\n",
       "4      0.0         0.557293\n",
       "       1.0         0.809524\n",
       "Name: has_common, dtype: float64"
      ]
     },
     "execution_count": 158,
     "metadata": {},
     "output_type": "execute_result"
    }
   ],
   "source": [
    "test_group_df.groupby(['group', 'has_edge'])['has_common'].mean()"
   ]
  },
  {
   "cell_type": "code",
   "execution_count": null,
   "id": "99cf9412",
   "metadata": {},
   "outputs": [],
   "source": []
  }
 ],
 "metadata": {
  "kernelspec": {
   "display_name": "Python 3 (ipykernel)",
   "language": "python",
   "name": "python3"
  },
  "language_info": {
   "codemirror_mode": {
    "name": "ipython",
    "version": 3
   },
   "file_extension": ".py",
   "mimetype": "text/x-python",
   "name": "python",
   "nbconvert_exporter": "python",
   "pygments_lexer": "ipython3",
   "version": "3.9.7"
  }
 },
 "nbformat": 4,
 "nbformat_minor": 5
}
